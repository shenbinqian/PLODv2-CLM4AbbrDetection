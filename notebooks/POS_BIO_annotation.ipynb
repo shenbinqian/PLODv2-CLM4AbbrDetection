{
 "cells": [
  {
   "cell_type": "code",
   "execution_count": 1,
   "metadata": {},
   "outputs": [],
   "source": [
    "# !pip install spacy-transformers"
   ]
  },
  {
   "cell_type": "code",
   "execution_count": 1,
   "metadata": {},
   "outputs": [],
   "source": [
    "import spacy\n",
    "import ast\n",
    "import pandas as pd\n",
    "import json"
   ]
  },
  {
   "cell_type": "code",
   "execution_count": 2,
   "metadata": {},
   "outputs": [],
   "source": [
    "nlp = spacy.load(\"en_core_web_trf\")"
   ]
  },
  {
   "cell_type": "markdown",
   "metadata": {},
   "source": [
    "# Function for tokenising with space as token"
   ]
  },
  {
   "cell_type": "code",
   "execution_count": 3,
   "metadata": {},
   "outputs": [],
   "source": [
    "#tokenize text\n",
    "\n",
    "def tokenize(raw):\n",
    "    doc = nlp(raw)\n",
    "    token_texts = []\n",
    "    for token in doc:\n",
    "        token_texts.append(token.text)\n",
    "        if token.whitespace_:  # filter out empty strings\n",
    "            token_texts.append(token.whitespace_)\n",
    "    return token_texts"
   ]
  },
  {
   "cell_type": "markdown",
   "metadata": {},
   "source": [
    "# Function for obtaining pos tags of token"
   ]
  },
  {
   "cell_type": "code",
   "execution_count": 4,
   "metadata": {},
   "outputs": [],
   "source": [
    "def pos(raw):\n",
    "    doc = nlp(raw)\n",
    "    \n",
    "    pos_dict = {}\n",
    "    \n",
    "    for token in doc:\n",
    "        pos_dict[str(token)] = str(token.pos_)\n",
    "        \n",
    "    return pos_dict"
   ]
  },
  {
   "cell_type": "markdown",
   "metadata": {},
   "source": [
    "# Function for obtaining index of tokens"
   ]
  },
  {
   "cell_type": "code",
   "execution_count": 5,
   "metadata": {},
   "outputs": [],
   "source": [
    "def get_tok_idx(tokens):\n",
    "    token_dict = {}\n",
    "    for i in range(len(tokens)):\n",
    "        if i == 0:\n",
    "            idx_start = 0\n",
    "            idx_end = len(tokens[i])\n",
    "        else:\n",
    "            previous_tok_len = 0\n",
    "            for j in range(i):\n",
    "                previous_tok_len += len(tokens[j])\n",
    "            idx_start = previous_tok_len\n",
    "            idx_end = previous_tok_len + len(tokens[i])\n",
    "          \n",
    "        token_dict[str([idx_start,idx_end])]= tokens[i]\n",
    "    return token_dict"
   ]
  },
  {
   "cell_type": "markdown",
   "metadata": {},
   "source": [
    "# Illustrative example"
   ]
  },
  {
   "cell_type": "code",
   "execution_count": 6,
   "metadata": {},
   "outputs": [],
   "source": [
    "def json2dataframe(filename):\n",
    "    with open(filename, 'r', encoding='utf-8') as f:\n",
    "        json_data = json.load(f)\n",
    "        return pd.DataFrame(json_data)"
   ]
  },
  {
   "cell_type": "code",
   "execution_count": 29,
   "metadata": {},
   "outputs": [
    {
     "data": {
      "text/plain": [
       "(24399, 11)"
      ]
     },
     "execution_count": 29,
     "metadata": {},
     "output_type": "execute_result"
    }
   ],
   "source": [
    "#read raw PLOD tsv file\n",
    "f_name = '../PLODv1/unfiltered_data/PLOS-test15-unfiltered'\n",
    "data = pd.read_csv(f_name, sep=\"\\t\", quoting=3, encoding='utf8')\n",
    "data.shape"
   ]
  },
  {
   "cell_type": "code",
   "execution_count": 30,
   "metadata": {},
   "outputs": [],
   "source": [
    "#uncomment the line below to read and convert SDU@AAAI-22-SharedTask to a dataframe\n",
    "#data = pd.concat([json2dataframe(\"../SDU/train.json\"), json2dataframe(\"../SDU/dev.json\")], ignore_index=True)"
   ]
  },
  {
   "cell_type": "code",
   "execution_count": 31,
   "metadata": {},
   "outputs": [
    {
     "data": {
      "text/html": [
       "<div>\n",
       "<style scoped>\n",
       "    .dataframe tbody tr th:only-of-type {\n",
       "        vertical-align: middle;\n",
       "    }\n",
       "\n",
       "    .dataframe tbody tr th {\n",
       "        vertical-align: top;\n",
       "    }\n",
       "\n",
       "    .dataframe thead th {\n",
       "        text-align: right;\n",
       "    }\n",
       "</style>\n",
       "<table border=\"1\" class=\"dataframe\">\n",
       "  <thead>\n",
       "    <tr style=\"text-align: right;\">\n",
       "      <th></th>\n",
       "      <th>IDs</th>\n",
       "      <th>text</th>\n",
       "      <th>ac_indexes</th>\n",
       "      <th>lf_indexes</th>\n",
       "      <th>ac_text</th>\n",
       "      <th>lf_text</th>\n",
       "      <th>source_file</th>\n",
       "      <th>source_journal</th>\n",
       "      <th>auto_valid</th>\n",
       "      <th>ac_dic</th>\n",
       "      <th>lf_dic</th>\n",
       "    </tr>\n",
       "  </thead>\n",
       "  <tbody>\n",
       "    <tr>\n",
       "      <th>0</th>\n",
       "      <td>1183268</td>\n",
       "      <td>The diffusing capacity of the lungs for carbon...</td>\n",
       "      <td>[[57, 61], [102, 105], [135, 138], [94, 96], [...</td>\n",
       "      <td>[[4, 55]]</td>\n",
       "      <td>['DLCO', 'IPF', 'IPF', 'LC', 'LC']</td>\n",
       "      <td>['diffusing capacity of the lungs for carbon m...</td>\n",
       "      <td>PMC7323957.nxml</td>\n",
       "      <td>PLoS_One</td>\n",
       "      <td>0</td>\n",
       "      <td>['DLCO', 'IPF', 'IPF', 'LC', 'LC']</td>\n",
       "      <td>['diffusing capacity of the lungs for carbon m...</td>\n",
       "    </tr>\n",
       "    <tr>\n",
       "      <th>1</th>\n",
       "      <td>510643</td>\n",
       "      <td>The unadjusted prevalence of blindness in the ...</td>\n",
       "      <td>[[113, 115], [128, 132]]</td>\n",
       "      <td>[[92, 111]]</td>\n",
       "      <td>['CI', 'DEFF']</td>\n",
       "      <td>['confidence interval']</td>\n",
       "      <td>PMC1904464.nxml</td>\n",
       "      <td>PLoS_Med</td>\n",
       "      <td>0</td>\n",
       "      <td>['CI', 'DEFF']</td>\n",
       "      <td>['confidence interval']</td>\n",
       "    </tr>\n",
       "    <tr>\n",
       "      <th>2</th>\n",
       "      <td>955227</td>\n",
       "      <td>Effects of 25 μM of resveratrol (RSV) on the e...</td>\n",
       "      <td>[[33, 36], [115, 117], [155, 157], [198, 200]]</td>\n",
       "      <td>[[84, 101], [120, 137], [163, 180], [84, 113],...</td>\n",
       "      <td>['RSV', '3S', '3G', '4G']</td>\n",
       "      <td>['trans-resveratrol', 'trans-resveratrol', 'tr...</td>\n",
       "      <td>PMC5617156.nxml</td>\n",
       "      <td>PLoS_One</td>\n",
       "      <td>0</td>\n",
       "      <td>['RSV', '3S', '3G', '4G']</td>\n",
       "      <td>['Trans-resveratrol', 'Trans-resveratrol', 'Tr...</td>\n",
       "    </tr>\n",
       "    <tr>\n",
       "      <th>3</th>\n",
       "      <td>1137321</td>\n",
       "      <td>For evaluating depressive symptoms, the self-c...</td>\n",
       "      <td>[[82, 85], [191, 195], [324, 330]]</td>\n",
       "      <td>[[55, 80], [256, 322]]</td>\n",
       "      <td>['BDI', 'MINI', 'DSM-IV']</td>\n",
       "      <td>['Beck Depression Inventory', 'Diagnostic and ...</td>\n",
       "      <td>PMC6936775.nxml</td>\n",
       "      <td>PLoS_One</td>\n",
       "      <td>0</td>\n",
       "      <td>['BDI', 'MINI', 'DSM-IV']</td>\n",
       "      <td>['Beck Depression Inventory', 'Diagnostic and ...</td>\n",
       "    </tr>\n",
       "    <tr>\n",
       "      <th>4</th>\n",
       "      <td>249100</td>\n",
       "      <td>Filamentous actin (F-actin) was stained with p...</td>\n",
       "      <td>[[100, 103], [19, 26]]</td>\n",
       "      <td>[[0, 17]]</td>\n",
       "      <td>['CFm', 'F-actin']</td>\n",
       "      <td>['Filamentous actin']</td>\n",
       "      <td>PMC5562439.nxml</td>\n",
       "      <td>PLoS_Biol</td>\n",
       "      <td>0</td>\n",
       "      <td>['CFm', 'F-actin']</td>\n",
       "      <td>['filamentous actin']</td>\n",
       "    </tr>\n",
       "  </tbody>\n",
       "</table>\n",
       "</div>"
      ],
      "text/plain": [
       "       IDs                                               text  \\\n",
       "0  1183268  The diffusing capacity of the lungs for carbon...   \n",
       "1   510643  The unadjusted prevalence of blindness in the ...   \n",
       "2   955227  Effects of 25 μM of resveratrol (RSV) on the e...   \n",
       "3  1137321  For evaluating depressive symptoms, the self-c...   \n",
       "4   249100  Filamentous actin (F-actin) was stained with p...   \n",
       "\n",
       "                                          ac_indexes  \\\n",
       "0  [[57, 61], [102, 105], [135, 138], [94, 96], [...   \n",
       "1                           [[113, 115], [128, 132]]   \n",
       "2     [[33, 36], [115, 117], [155, 157], [198, 200]]   \n",
       "3                 [[82, 85], [191, 195], [324, 330]]   \n",
       "4                             [[100, 103], [19, 26]]   \n",
       "\n",
       "                                          lf_indexes  \\\n",
       "0                                          [[4, 55]]   \n",
       "1                                        [[92, 111]]   \n",
       "2  [[84, 101], [120, 137], [163, 180], [84, 113],...   \n",
       "3                             [[55, 80], [256, 322]]   \n",
       "4                                          [[0, 17]]   \n",
       "\n",
       "                              ac_text  \\\n",
       "0  ['DLCO', 'IPF', 'IPF', 'LC', 'LC']   \n",
       "1                      ['CI', 'DEFF']   \n",
       "2           ['RSV', '3S', '3G', '4G']   \n",
       "3           ['BDI', 'MINI', 'DSM-IV']   \n",
       "4                  ['CFm', 'F-actin']   \n",
       "\n",
       "                                             lf_text      source_file  \\\n",
       "0  ['diffusing capacity of the lungs for carbon m...  PMC7323957.nxml   \n",
       "1                            ['confidence interval']  PMC1904464.nxml   \n",
       "2  ['trans-resveratrol', 'trans-resveratrol', 'tr...  PMC5617156.nxml   \n",
       "3  ['Beck Depression Inventory', 'Diagnostic and ...  PMC6936775.nxml   \n",
       "4                              ['Filamentous actin']  PMC5562439.nxml   \n",
       "\n",
       "  source_journal  auto_valid                              ac_dic  \\\n",
       "0       PLoS_One           0  ['DLCO', 'IPF', 'IPF', 'LC', 'LC']   \n",
       "1       PLoS_Med           0                      ['CI', 'DEFF']   \n",
       "2       PLoS_One           0           ['RSV', '3S', '3G', '4G']   \n",
       "3       PLoS_One           0           ['BDI', 'MINI', 'DSM-IV']   \n",
       "4      PLoS_Biol           0                  ['CFm', 'F-actin']   \n",
       "\n",
       "                                              lf_dic  \n",
       "0  ['diffusing capacity of the lungs for carbon m...  \n",
       "1                            ['confidence interval']  \n",
       "2  ['Trans-resveratrol', 'Trans-resveratrol', 'Tr...  \n",
       "3  ['Beck Depression Inventory', 'Diagnostic and ...  \n",
       "4                              ['filamentous actin']  "
      ]
     },
     "execution_count": 31,
     "metadata": {},
     "output_type": "execute_result"
    }
   ],
   "source": [
    "data.head()"
   ]
  },
  {
   "cell_type": "code",
   "execution_count": 32,
   "metadata": {},
   "outputs": [],
   "source": [
    "data['tokenized'] =data['text'].apply(tokenize)"
   ]
  },
  {
   "cell_type": "code",
   "execution_count": 33,
   "metadata": {},
   "outputs": [],
   "source": [
    "data['pos_dict'] = data['text'].apply(pos)"
   ]
  },
  {
   "cell_type": "code",
   "execution_count": 34,
   "metadata": {},
   "outputs": [],
   "source": [
    "data['tokens_dict'] = data['tokenized'].apply(get_tok_idx)"
   ]
  },
  {
   "cell_type": "code",
   "execution_count": 35,
   "metadata": {},
   "outputs": [
    {
     "data": {
      "text/html": [
       "<div>\n",
       "<style scoped>\n",
       "    .dataframe tbody tr th:only-of-type {\n",
       "        vertical-align: middle;\n",
       "    }\n",
       "\n",
       "    .dataframe tbody tr th {\n",
       "        vertical-align: top;\n",
       "    }\n",
       "\n",
       "    .dataframe thead th {\n",
       "        text-align: right;\n",
       "    }\n",
       "</style>\n",
       "<table border=\"1\" class=\"dataframe\">\n",
       "  <thead>\n",
       "    <tr style=\"text-align: right;\">\n",
       "      <th></th>\n",
       "      <th>IDs</th>\n",
       "      <th>text</th>\n",
       "      <th>acronyms</th>\n",
       "      <th>longforms</th>\n",
       "      <th>ac_text</th>\n",
       "      <th>lf_text</th>\n",
       "      <th>source_file</th>\n",
       "      <th>source_journal</th>\n",
       "      <th>auto_valid</th>\n",
       "      <th>ac_dic</th>\n",
       "      <th>lf_dic</th>\n",
       "      <th>tokenized</th>\n",
       "      <th>pos_dict</th>\n",
       "      <th>tokens_dict</th>\n",
       "    </tr>\n",
       "  </thead>\n",
       "  <tbody>\n",
       "    <tr>\n",
       "      <th>0</th>\n",
       "      <td>1183268</td>\n",
       "      <td>The diffusing capacity of the lungs for carbon...</td>\n",
       "      <td>[[57, 61], [102, 105], [135, 138], [94, 96], [...</td>\n",
       "      <td>[[4, 55]]</td>\n",
       "      <td>['DLCO', 'IPF', 'IPF', 'LC', 'LC']</td>\n",
       "      <td>['diffusing capacity of the lungs for carbon m...</td>\n",
       "      <td>PMC7323957.nxml</td>\n",
       "      <td>PLoS_One</td>\n",
       "      <td>0</td>\n",
       "      <td>['DLCO', 'IPF', 'IPF', 'LC', 'LC']</td>\n",
       "      <td>['diffusing capacity of the lungs for carbon m...</td>\n",
       "      <td>[The,  , diffusing,  , capacity,  , of,  , the...</td>\n",
       "      <td>{'The': 'DET', 'diffusing': 'VERB', 'capacity'...</td>\n",
       "      <td>{'[0, 3]': 'The', '[3, 4]': ' ', '[4, 13]': 'd...</td>\n",
       "    </tr>\n",
       "    <tr>\n",
       "      <th>1</th>\n",
       "      <td>510643</td>\n",
       "      <td>The unadjusted prevalence of blindness in the ...</td>\n",
       "      <td>[[113, 115], [128, 132]]</td>\n",
       "      <td>[[92, 111]]</td>\n",
       "      <td>['CI', 'DEFF']</td>\n",
       "      <td>['confidence interval']</td>\n",
       "      <td>PMC1904464.nxml</td>\n",
       "      <td>PLoS_Med</td>\n",
       "      <td>0</td>\n",
       "      <td>['CI', 'DEFF']</td>\n",
       "      <td>['confidence interval']</td>\n",
       "      <td>[The,  , unadjusted,  , prevalence,  , of,  , ...</td>\n",
       "      <td>{'The': 'DET', 'unadjusted': 'ADJ', 'prevalenc...</td>\n",
       "      <td>{'[0, 3]': 'The', '[3, 4]': ' ', '[4, 14]': 'u...</td>\n",
       "    </tr>\n",
       "    <tr>\n",
       "      <th>2</th>\n",
       "      <td>955227</td>\n",
       "      <td>Effects of 25 μM of resveratrol (RSV) on the e...</td>\n",
       "      <td>[[33, 36], [115, 117], [155, 157], [198, 200]]</td>\n",
       "      <td>[[84, 101], [120, 137], [163, 180], [84, 113],...</td>\n",
       "      <td>['RSV', '3S', '3G', '4G']</td>\n",
       "      <td>['trans-resveratrol', 'trans-resveratrol', 'tr...</td>\n",
       "      <td>PMC5617156.nxml</td>\n",
       "      <td>PLoS_One</td>\n",
       "      <td>0</td>\n",
       "      <td>['RSV', '3S', '3G', '4G']</td>\n",
       "      <td>['Trans-resveratrol', 'Trans-resveratrol', 'Tr...</td>\n",
       "      <td>[Effects,  , of,  , 25,  , μM,  , of,  , resve...</td>\n",
       "      <td>{'Effects': 'NOUN', 'of': 'ADP', '25': 'NUM', ...</td>\n",
       "      <td>{'[0, 7]': 'Effects', '[7, 8]': ' ', '[8, 10]'...</td>\n",
       "    </tr>\n",
       "    <tr>\n",
       "      <th>3</th>\n",
       "      <td>1137321</td>\n",
       "      <td>For evaluating depressive symptoms, the self-c...</td>\n",
       "      <td>[[82, 85], [191, 195], [324, 330]]</td>\n",
       "      <td>[[55, 80], [256, 322]]</td>\n",
       "      <td>['BDI', 'MINI', 'DSM-IV']</td>\n",
       "      <td>['Beck Depression Inventory', 'Diagnostic and ...</td>\n",
       "      <td>PMC6936775.nxml</td>\n",
       "      <td>PLoS_One</td>\n",
       "      <td>0</td>\n",
       "      <td>['BDI', 'MINI', 'DSM-IV']</td>\n",
       "      <td>['Beck Depression Inventory', 'Diagnostic and ...</td>\n",
       "      <td>[For,  , evaluating,  , depressive,  , symptom...</td>\n",
       "      <td>{'For': 'ADP', 'evaluating': 'VERB', 'depressi...</td>\n",
       "      <td>{'[0, 3]': 'For', '[3, 4]': ' ', '[4, 14]': 'e...</td>\n",
       "    </tr>\n",
       "    <tr>\n",
       "      <th>4</th>\n",
       "      <td>249100</td>\n",
       "      <td>Filamentous actin (F-actin) was stained with p...</td>\n",
       "      <td>[[100, 103], [19, 26]]</td>\n",
       "      <td>[[0, 17]]</td>\n",
       "      <td>['CFm', 'F-actin']</td>\n",
       "      <td>['Filamentous actin']</td>\n",
       "      <td>PMC5562439.nxml</td>\n",
       "      <td>PLoS_Biol</td>\n",
       "      <td>0</td>\n",
       "      <td>['CFm', 'F-actin']</td>\n",
       "      <td>['filamentous actin']</td>\n",
       "      <td>[Filamentous,  , actin,  , (, F, -, actin, ), ...</td>\n",
       "      <td>{'Filamentous': 'ADJ', 'actin': 'NOUN', '(': '...</td>\n",
       "      <td>{'[0, 11]': 'Filamentous', '[11, 12]': ' ', '[...</td>\n",
       "    </tr>\n",
       "  </tbody>\n",
       "</table>\n",
       "</div>"
      ],
      "text/plain": [
       "       IDs                                               text  \\\n",
       "0  1183268  The diffusing capacity of the lungs for carbon...   \n",
       "1   510643  The unadjusted prevalence of blindness in the ...   \n",
       "2   955227  Effects of 25 μM of resveratrol (RSV) on the e...   \n",
       "3  1137321  For evaluating depressive symptoms, the self-c...   \n",
       "4   249100  Filamentous actin (F-actin) was stained with p...   \n",
       "\n",
       "                                            acronyms  \\\n",
       "0  [[57, 61], [102, 105], [135, 138], [94, 96], [...   \n",
       "1                           [[113, 115], [128, 132]]   \n",
       "2     [[33, 36], [115, 117], [155, 157], [198, 200]]   \n",
       "3                 [[82, 85], [191, 195], [324, 330]]   \n",
       "4                             [[100, 103], [19, 26]]   \n",
       "\n",
       "                                           longforms  \\\n",
       "0                                          [[4, 55]]   \n",
       "1                                        [[92, 111]]   \n",
       "2  [[84, 101], [120, 137], [163, 180], [84, 113],...   \n",
       "3                             [[55, 80], [256, 322]]   \n",
       "4                                          [[0, 17]]   \n",
       "\n",
       "                              ac_text  \\\n",
       "0  ['DLCO', 'IPF', 'IPF', 'LC', 'LC']   \n",
       "1                      ['CI', 'DEFF']   \n",
       "2           ['RSV', '3S', '3G', '4G']   \n",
       "3           ['BDI', 'MINI', 'DSM-IV']   \n",
       "4                  ['CFm', 'F-actin']   \n",
       "\n",
       "                                             lf_text      source_file  \\\n",
       "0  ['diffusing capacity of the lungs for carbon m...  PMC7323957.nxml   \n",
       "1                            ['confidence interval']  PMC1904464.nxml   \n",
       "2  ['trans-resveratrol', 'trans-resveratrol', 'tr...  PMC5617156.nxml   \n",
       "3  ['Beck Depression Inventory', 'Diagnostic and ...  PMC6936775.nxml   \n",
       "4                              ['Filamentous actin']  PMC5562439.nxml   \n",
       "\n",
       "  source_journal  auto_valid                              ac_dic  \\\n",
       "0       PLoS_One           0  ['DLCO', 'IPF', 'IPF', 'LC', 'LC']   \n",
       "1       PLoS_Med           0                      ['CI', 'DEFF']   \n",
       "2       PLoS_One           0           ['RSV', '3S', '3G', '4G']   \n",
       "3       PLoS_One           0           ['BDI', 'MINI', 'DSM-IV']   \n",
       "4      PLoS_Biol           0                  ['CFm', 'F-actin']   \n",
       "\n",
       "                                              lf_dic  \\\n",
       "0  ['diffusing capacity of the lungs for carbon m...   \n",
       "1                            ['confidence interval']   \n",
       "2  ['Trans-resveratrol', 'Trans-resveratrol', 'Tr...   \n",
       "3  ['Beck Depression Inventory', 'Diagnostic and ...   \n",
       "4                              ['filamentous actin']   \n",
       "\n",
       "                                           tokenized  \\\n",
       "0  [The,  , diffusing,  , capacity,  , of,  , the...   \n",
       "1  [The,  , unadjusted,  , prevalence,  , of,  , ...   \n",
       "2  [Effects,  , of,  , 25,  , μM,  , of,  , resve...   \n",
       "3  [For,  , evaluating,  , depressive,  , symptom...   \n",
       "4  [Filamentous,  , actin,  , (, F, -, actin, ), ...   \n",
       "\n",
       "                                            pos_dict  \\\n",
       "0  {'The': 'DET', 'diffusing': 'VERB', 'capacity'...   \n",
       "1  {'The': 'DET', 'unadjusted': 'ADJ', 'prevalenc...   \n",
       "2  {'Effects': 'NOUN', 'of': 'ADP', '25': 'NUM', ...   \n",
       "3  {'For': 'ADP', 'evaluating': 'VERB', 'depressi...   \n",
       "4  {'Filamentous': 'ADJ', 'actin': 'NOUN', '(': '...   \n",
       "\n",
       "                                         tokens_dict  \n",
       "0  {'[0, 3]': 'The', '[3, 4]': ' ', '[4, 13]': 'd...  \n",
       "1  {'[0, 3]': 'The', '[3, 4]': ' ', '[4, 14]': 'u...  \n",
       "2  {'[0, 7]': 'Effects', '[7, 8]': ' ', '[8, 10]'...  \n",
       "3  {'[0, 3]': 'For', '[3, 4]': ' ', '[4, 14]': 'e...  \n",
       "4  {'[0, 11]': 'Filamentous', '[11, 12]': ' ', '[...  "
      ]
     },
     "execution_count": 35,
     "metadata": {},
     "output_type": "execute_result"
    }
   ],
   "source": [
    "# change the name of longforms and acronyms column for applying the function directly on the column\n",
    "data = data.rename(columns={\"lf_indexes\": \"longforms\"})\n",
    "#data = data.rename(columns={\"long-forms\": \"longforms\"}) #for SDU@AAAI-22-SharedTask\n",
    "data = data.rename(columns={\"ac_indexes\": \"acronyms\"})\n",
    "data.head()"
   ]
  },
  {
   "cell_type": "code",
   "execution_count": 36,
   "metadata": {},
   "outputs": [],
   "source": [
    "#uncomment the below two lines to convert list into string to unify data types of different files\n",
    "#data[\"longforms\"] = data[\"longforms\"].apply(str)\n",
    "#data[\"acronyms\"] = data[\"acronyms\"].apply(str)"
   ]
  },
  {
   "cell_type": "markdown",
   "metadata": {},
   "source": [
    "# The function for annotating with BIO and POS"
   ]
  },
  {
   "cell_type": "code",
   "execution_count": 15,
   "metadata": {},
   "outputs": [],
   "source": [
    "def pos_bio(tokens_dict, longforms, acronyms, pos_dict):\n",
    "    sent_labeled = []\n",
    "    unannotated = {}\n",
    "    lf_counter = 0\n",
    "    abbr_counter = 0\n",
    "    for k, v in tokens_dict.items():\n",
    "        label_flag = 0 #used for labeling non arconym and longforms\n",
    "        if v.isspace() != True:\n",
    "            #check longforms\n",
    "            for idx in sorted(ast.literal_eval(longforms)):\n",
    "                if idx[0] == ast.literal_eval(k)[0]:\n",
    "                    #check if start index equal\n",
    "                    sent_labeled.append((v, pos_dict[v],'B-LF'))\n",
    "                    label_flag = 1\n",
    "                    lf_counter += 1\n",
    "                    break\n",
    "\n",
    "                elif ast.literal_eval(k)[0] > idx[0] and ast.literal_eval(k)[0] < idx[1]:\n",
    "                    #check I-LF\n",
    "                    if(v not in pos_dict.keys()):\n",
    "                        pos_dict[v] = 'PUNCT'\n",
    "                    sent_labeled.append((v, pos_dict[v],'I-LF'))\n",
    "                    label_flag = 1\n",
    "                    break\n",
    "\n",
    "                elif ast.literal_eval(k)[1] > idx[0] and ast.literal_eval(k)[1] < idx[1]:\n",
    "                    #check if B-LF end index falls insde LF index\n",
    "                    sent_labeled.append((v, pos_dict[v],'B-LF'))\n",
    "                    label_flag = 1\n",
    "                    lf_counter += 1\n",
    "                    break\n",
    "\n",
    "            if label_flag == 0:\n",
    "                # check acronyms\n",
    "                for idx in ast.literal_eval(acronyms):\n",
    "                    #check if acronyms fall inside token\n",
    "                    if idx[0] >= ast.literal_eval(k)[0] and idx[1] <= ast.literal_eval(k)[1]:\n",
    "                        sent_labeled.append((v, pos_dict[v],'B-AC'))\n",
    "                        label_flag = 1\n",
    "                        abbr_counter += 1\n",
    "                        break\n",
    "                    #check if token fall inside acronyms\n",
    "                    elif ast.literal_eval(k)[0] == idx[0] and ast.literal_eval(k)[1] < idx[1]:\n",
    "                        sent_labeled.append((v, pos_dict[v],'B-AC'))\n",
    "                        label_flag = 1\n",
    "                        abbr_counter += 1\n",
    "                        break\n",
    "                    elif ast.literal_eval(k)[0] > idx[0] and ast.literal_eval(k)[1] <= idx[1]:\n",
    "                        sent_labeled.append((v, pos_dict[v],'B-AC'))\n",
    "                        label_flag = 1\n",
    "                        break\n",
    "\n",
    "            #check O label\n",
    "            if label_flag == 0:\n",
    "                if(v not in pos_dict.keys()):\n",
    "                    pos_dict[v] = 'PUNCT'\n",
    "                sent_labeled.append((v,pos_dict[v],'B-O'))\n",
    "\n",
    "    if len(ast.literal_eval(longforms)) != lf_counter:\n",
    "        unannotated[\"unmatched long forms\"] = str(len(ast.literal_eval(longforms))) + \"-\" + str(lf_counter)\n",
    "    if len(ast.literal_eval(acronyms)) != abbr_counter:\n",
    "        unannotated[\"unmatched acronyms\"] = str(len(ast.literal_eval(acronyms))) + \"-\" + str(abbr_counter)\n",
    "\n",
    "    return sent_labeled, unannotated"
   ]
  },
  {
   "cell_type": "code",
   "execution_count": 16,
   "metadata": {},
   "outputs": [
    {
     "data": {
      "text/plain": [
       "(113860, 14)"
      ]
     },
     "execution_count": 16,
     "metadata": {},
     "output_type": "execute_result"
    }
   ],
   "source": [
    "data.shape"
   ]
  },
  {
   "cell_type": "markdown",
   "metadata": {},
   "source": [
    "# Apply the function to the dataframe directly\n"
   ]
  },
  {
   "cell_type": "code",
   "execution_count": 37,
   "metadata": {
    "scrolled": true
   },
   "outputs": [],
   "source": [
    "plos_data_pos_bio = data.apply(lambda x: pos_bio(x.tokens_dict, x.longforms,x.acronyms, x.pos_dict), axis=1)"
   ]
  },
  {
   "cell_type": "markdown",
   "metadata": {},
   "source": [
    "# Save the POS, BIO list into a txt file with each token, POS, and BIO annotation on one line"
   ]
  },
  {
   "cell_type": "code",
   "execution_count": 18,
   "metadata": {
    "scrolled": true
   },
   "outputs": [
    {
     "data": {
      "text/plain": [
       "([('We', 'PRON', 'B-O'),\n",
       "  ('developed', 'VERB', 'B-O'),\n",
       "  ('a', 'DET', 'B-O'),\n",
       "  ('variant', 'NOUN', 'B-O'),\n",
       "  ('of', 'ADP', 'B-O'),\n",
       "  ('gene', 'NOUN', 'B-LF'),\n",
       "  ('set', 'NOUN', 'I-LF'),\n",
       "  ('enrichment', 'NOUN', 'I-LF'),\n",
       "  ('analysis', 'NOUN', 'I-LF'),\n",
       "  ('(', 'PUNCT', 'B-O'),\n",
       "  ('GSEA', 'PROPN', 'B-AC'),\n",
       "  (')', 'PUNCT', 'B-O'),\n",
       "  ('to', 'PART', 'B-O'),\n",
       "  ('determine', 'VERB', 'B-O'),\n",
       "  ('whether', 'SCONJ', 'B-O'),\n",
       "  ('a', 'DET', 'B-O'),\n",
       "  ('genetic', 'ADJ', 'B-O'),\n",
       "  ('pathway', 'NOUN', 'B-O'),\n",
       "  ('shows', 'VERB', 'B-O'),\n",
       "  ('evidence', 'NOUN', 'B-O'),\n",
       "  ('for', 'ADP', 'B-O'),\n",
       "  ('age', 'NOUN', 'B-O'),\n",
       "  ('regulation', 'NOUN', 'B-O'),\n",
       "  ('[', 'PUNCT', 'B-O'),\n",
       "  ('23', 'NUM', 'B-O'),\n",
       "  (']', 'PUNCT', 'B-O'),\n",
       "  ('.', 'PUNCT', 'B-O')],\n",
       " {})"
      ]
     },
     "execution_count": 18,
     "metadata": {},
     "output_type": "execute_result"
    }
   ],
   "source": [
    "plos_data_pos_bio[3]"
   ]
  },
  {
   "cell_type": "code",
   "execution_count": 38,
   "metadata": {},
   "outputs": [],
   "source": [
    "output_pos_bio = f_name + \"bio.conll\"\n",
    "with open(output_pos_bio, 'w', encoding=\"utf-8\") as outfile:\n",
    "    for ls in plos_data_pos_bio:\n",
    "        for tup in ls[0]:\n",
    "            line = \" \".join(map(str, tup))\n",
    "        \n",
    "            outfile.write(line + '\\n')\n",
    "        outfile.write('\\n')"
   ]
  },
  {
   "cell_type": "code",
   "execution_count": null,
   "metadata": {},
   "outputs": [],
   "source": []
  }
 ],
 "metadata": {
  "kernelspec": {
   "display_name": "Python 3 (ipykernel)",
   "language": "python",
   "name": "python3"
  },
  "language_info": {
   "codemirror_mode": {
    "name": "ipython",
    "version": 3
   },
   "file_extension": ".py",
   "mimetype": "text/x-python",
   "name": "python",
   "nbconvert_exporter": "python",
   "pygments_lexer": "ipython3",
   "version": "3.9.7"
  }
 },
 "nbformat": 4,
 "nbformat_minor": 4
}
